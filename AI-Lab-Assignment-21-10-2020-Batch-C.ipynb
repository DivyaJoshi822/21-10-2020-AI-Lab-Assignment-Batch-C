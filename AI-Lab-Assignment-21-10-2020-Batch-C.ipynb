{
 "cells": [
  {
   "cell_type": "code",
   "execution_count": 5,
   "metadata": {},
   "outputs": [
    {
     "name": "stdout",
     "output_type": "stream",
     "text": [
      "The original string is : divyajoshi\n",
      "The string after uppercasing initial character : Divyajoshi\n"
     ]
    }
   ],
   "source": [
    "import re\n",
    "test_str = \"divyajoshi\"\n",
    "\n",
    "\n",
    "print(\"The original string is : \" + str(test_str)) \n",
    "\n",
    "\n",
    "res = test_str.capitalize() \n",
    "\n",
    "\n",
    "print(\"The string after uppercasing initial character : \" + str(res)) \n"
   ]
  },
  {
   "cell_type": "code",
   "execution_count": 8,
   "metadata": {},
   "outputs": [
    {
     "name": "stdout",
     "output_type": "stream",
     "text": [
      "Friday\n"
     ]
    }
   ],
   "source": [
    "import datetime  \n",
    "\n",
    "from datetime import date \n",
    "\n",
    "import calendar \n",
    "\n",
    "  \n",
    "\n",
    "def findDay(date): \n",
    "\n",
    "    day, month, year = (int(i) for i in date.split(' '))     \n",
    "\n",
    "    born = datetime.date(year, month, day) \n",
    "\n",
    "    return born.strftime(\"%A\") \n",
    "\n",
    "\n",
    "date = '23 10 2020'\n",
    "\n",
    "print(findDay(date)) \n"
   ]
  },
  {
   "cell_type": "code",
   "execution_count": 14,
   "metadata": {},
   "outputs": [
    {
     "name": "stdout",
     "output_type": "stream",
     "text": [
      "Valid Ip address\n",
      "Invalid Ip address\n"
     ]
    }
   ],
   "source": [
    "import re \n",
    "\n",
    "  \n",
    "# Make a regular expression \n",
    "# for validating an Ip-address \n",
    "\n",
    "regex = '''^(25[0-5]|2[0-4][0-9]|[0-1]?[0-9][0-9]?)\\.( \n",
    "\n",
    "            25[0-5]|2[0-4][0-9]|[0-1]?[0-9][0-9]?)\\.( \n",
    "\n",
    "            25[0-5]|2[0-4][0-9]|[0-1]?[0-9][0-9]?)\\.( \n",
    "\n",
    "            25[0-5]|2[0-4][0-9]|[0-1]?[0-9][0-9]?)$'''\n",
    "\n",
    "      \n",
    "# Define a function for \n",
    "# validate an Ip addess \n",
    "\n",
    "def check(Ip):  \n",
    "\n",
    "  \n",
    "\n",
    "    # pass the regular expression \n",
    "\n",
    "    # and the string in search() method \n",
    "\n",
    "    if(re.search(regex, Ip)):  \n",
    "\n",
    "        print(\"Valid Ip address\")  \n",
    "\n",
    "          \n",
    "\n",
    "    else:  \n",
    "\n",
    "        print(\"Invalid Ip address\")  \n",
    "\n",
    "      \n",
    "\n",
    "  \n",
    "# Driver Code  \n",
    "\n",
    "if __name__ == '__main__' : \n",
    "\n",
    "      \n",
    "\n",
    "    # Enter the Ip address \n",
    "\n",
    "    Ip = \"192.168.0.1\"\n",
    "\n",
    "      \n",
    "\n",
    "    # calling run function  \n",
    "\n",
    "    check(Ip) \n",
    "    \n",
    "    Ip = \"190.16.0\"\n",
    "\n",
    "    check(Ip) "
   ]
  },
  {
   "cell_type": "code",
   "execution_count": 28,
   "metadata": {},
   "outputs": [
    {
     "name": "stdout",
     "output_type": "stream",
     "text": [
      "True\n",
      "False\n"
     ]
    }
   ],
   "source": [
    "import re\n",
    "regex = re.compile(\n",
    "        r'^(?:http|ftp)s?://' # http:// or https://\n",
    "        r'(?:(?:[A-Z0-9](?:[A-Z0-9-]{0,61}[A-Z0-9])?\\.)+(?:[A-Z]{2,6}\\.?|[A-Z0-9-]{2,}\\.?)|' \n",
    "        r'localhost|' \n",
    "        r'\\d{1,3}\\.\\d{1,3}\\.\\d{1,3}\\.\\d{1,3})' # ...or ip\n",
    "        r'(?::\\d+)?' \n",
    "        r'(?:/?|[/?]\\S+)$', re.IGNORECASE)\n",
    "\n",
    "print(re.match(regex, \"http://www.example.com\") is not None)\n",
    "print(re.match(regex, \"example.com\") is not None)"
   ]
  },
  {
   "cell_type": "code",
   "execution_count": 29,
   "metadata": {},
   "outputs": [
    {
     "name": "stdout",
     "output_type": "stream",
     "text": [
      "True\n",
      "False\n"
     ]
    }
   ],
   "source": [
    "import re\n",
    "string = \"abc123\"\n",
    "\n",
    "print(string.isalnum()) \n",
    "\n",
    "  \n",
    "# here a,b and c are characters and 1,2 and 3  \n",
    "# are numbers but space is not a alphanumeric  \n",
    "# character \n",
    "\n",
    "string = \"abc 123\"\n",
    "\n",
    "print(string.isalnum())"
   ]
  },
  {
   "cell_type": "code",
   "execution_count": 30,
   "metadata": {},
   "outputs": [
    {
     "name": "stdout",
     "output_type": "stream",
     "text": [
      "Yes\n",
      "No\n"
     ]
    }
   ],
   "source": [
    "import datetime \n",
    "\n",
    "def date_validation(day, month, year): \n",
    "\n",
    "      \n",
    "\n",
    "    isValidDate = True\n",
    "\n",
    "      \n",
    "\n",
    "    try : \n",
    "\n",
    "        datetime.datetime(int(year),  \n",
    "\n",
    "                          int(month), int(day)) \n",
    "\n",
    "          \n",
    "\n",
    "    except ValueError : \n",
    "\n",
    "        isValidDate = False\n",
    "\n",
    "          \n",
    "\n",
    "    if(isValidDate) : \n",
    "\n",
    "        print (\"Yes\") \n",
    "\n",
    "    else : \n",
    "\n",
    "        print (\"No\") \n",
    "\n",
    "  \n",
    "\n",
    "date_validation(10,12,2020)  \n",
    "\n",
    "date_validation(31,13,2020) "
   ]
  },
  {
   "cell_type": "code",
   "execution_count": 31,
   "metadata": {},
   "outputs": [
    {
     "name": "stdout",
     "output_type": "stream",
     "text": [
      "Hex is valid\n",
      "Hex is not valid\n"
     ]
    }
   ],
   "source": [
    "import re\n",
    "regex = \"^#(?:[0-9a-fA-F]{1,2}){3}$\"\n",
    "def check(str):\n",
    "    if(re.search(regex, str)):\n",
    "        print('Hex is valid')\n",
    "    else:\n",
    "        print('Hex is not valid')\n",
    "        \n",
    "# Driver Code  \n",
    "\n",
    "if __name__ == '__main__' : \n",
    "\n",
    "      \n",
    "\n",
    "    str = \"#ffffff\"\n",
    "\n",
    "      \n",
    "\n",
    "    # calling run function  \n",
    "\n",
    "    check(str) \n",
    "    \n",
    "    str = \"#110grie\"\n",
    "\n",
    "    check(str) "
   ]
  },
  {
   "cell_type": "code",
   "execution_count": 32,
   "metadata": {},
   "outputs": [
    {
     "name": "stdout",
     "output_type": "stream",
     "text": [
      "[('2016', '09', '02')]\n"
     ]
    }
   ],
   "source": [
    "import re\n",
    "def extract_date(url):\n",
    "        return re.findall(r'/(\\d{4})/(\\d{1,2})/(\\d{1,2})/', url)\n",
    "url1= \"https://www.washingtonpost.com/news/football-insider/wp/2016/09/02/odell-beckhams-fame-rests-on-one-stupid-little-ball-josh-norman-tells-author/\"\n",
    "print(extract_date(url1))"
   ]
  }
 ],
 "metadata": {
  "kernelspec": {
   "display_name": "Python 3",
   "language": "python",
   "name": "python3"
  },
  "language_info": {
   "codemirror_mode": {
    "name": "ipython",
    "version": 3
   },
   "file_extension": ".py",
   "mimetype": "text/x-python",
   "name": "python",
   "nbconvert_exporter": "python",
   "pygments_lexer": "ipython3",
   "version": "3.8.3"
  }
 },
 "nbformat": 4,
 "nbformat_minor": 4
}
